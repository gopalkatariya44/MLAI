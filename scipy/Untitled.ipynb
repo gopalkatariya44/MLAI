{
 "cells": [
  {
   "cell_type": "code",
   "execution_count": 2,
   "id": "e7c073e3",
   "metadata": {},
   "outputs": [],
   "source": [
    "import matplotlib.image as image\n",
    "img=image.imread('IMG_2686.JPG')"
   ]
  },
  {
   "cell_type": "code",
   "execution_count": 3,
   "id": "2d6d751d",
   "metadata": {},
   "outputs": [
    {
     "name": "stdout",
     "output_type": "stream",
     "text": [
      "The Shape of the image is: (3265, 4898, 3)\n",
      "The image as array is:\n",
      "[[[224 178 145]\n",
      "  [226 181 148]\n",
      "  [231 186 153]\n",
      "  ...\n",
      "  [240 202 189]\n",
      "  [239 201 192]\n",
      "  [239 201 192]]\n",
      "\n",
      " [[224 178 145]\n",
      "  [226 181 148]\n",
      "  [231 186 153]\n",
      "  ...\n",
      "  [239 201 188]\n",
      "  [238 200 191]\n",
      "  [238 200 191]]\n",
      "\n",
      " [[223 177 144]\n",
      "  [225 180 147]\n",
      "  [230 185 152]\n",
      "  ...\n",
      "  [236 198 185]\n",
      "  [236 198 189]\n",
      "  [236 198 189]]\n",
      "\n",
      " ...\n",
      "\n",
      " [[255 227 193]\n",
      "  [255 227 195]\n",
      "  [255 227 195]\n",
      "  ...\n",
      "  [234 189 160]\n",
      "  [232 192 167]\n",
      "  [232 192 167]]\n",
      "\n",
      " [[255 227 193]\n",
      "  [255 228 196]\n",
      "  [255 228 196]\n",
      "  ...\n",
      "  [235 190 161]\n",
      "  [233 193 168]\n",
      "  [233 193 168]]\n",
      "\n",
      " [[252 225 195]\n",
      "  [254 225 195]\n",
      "  [255 224 196]\n",
      "  ...\n",
      "  [234 196 177]\n",
      "  [238 195 178]\n",
      "  [238 195 178]]]\n"
     ]
    }
   ],
   "source": [
    "print('The Shape of the image is:',img.shape)\n",
    "print('The image as array is:')\n",
    "print(img)"
   ]
  },
  {
   "cell_type": "code",
   "execution_count": null,
   "id": "2c758f25",
   "metadata": {},
   "outputs": [],
   "source": []
  }
 ],
 "metadata": {
  "kernelspec": {
   "display_name": "Python 3.9.7 64-bit ('base': conda)",
   "language": "python",
   "name": "python397jvsc74a57bd038cca0c38332a56087b24af0bc80247f4fced29cb4f7f437d91dc159adec9c4e"
  },
  "language_info": {
   "codemirror_mode": {
    "name": "ipython",
    "version": 3
   },
   "file_extension": ".py",
   "mimetype": "text/x-python",
   "name": "python",
   "nbconvert_exporter": "python",
   "pygments_lexer": "ipython3",
   "version": "3.9.7"
  }
 },
 "nbformat": 4,
 "nbformat_minor": 5
}
