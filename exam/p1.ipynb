{
 "cells": [
  {
   "cell_type": "code",
   "execution_count": 1,
   "id": "9ecf02c1",
   "metadata": {},
   "outputs": [],
   "source": [
    "def hel(n):\n",
    "    print(n,'hey p1')"
   ]
  },
  {
   "cell_type": "code",
   "execution_count": 3,
   "id": "5cef7a79",
   "metadata": {},
   "outputs": [
    {
     "name": "stdout",
     "output_type": "stream",
     "text": [
      "12 hey p1\n"
     ]
    }
   ],
   "source": [
    "hel(12)"
   ]
  },
  {
   "cell_type": "code",
   "execution_count": null,
   "id": "b5bdfdd6",
   "metadata": {},
   "outputs": [],
   "source": []
  }
 ],
 "metadata": {
  "kernelspec": {
   "display_name": "Python 3 (ipykernel)",
   "language": "python",
   "name": "python3"
  },
  "language_info": {
   "codemirror_mode": {
    "name": "ipython",
    "version": 3
   },
   "file_extension": ".py",
   "mimetype": "text/x-python",
   "name": "python",
   "nbconvert_exporter": "python",
   "pygments_lexer": "ipython3",
   "version": "3.9.12"
  }
 },
 "nbformat": 4,
 "nbformat_minor": 5
}
