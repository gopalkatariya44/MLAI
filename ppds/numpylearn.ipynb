{
 "cells": [
  {
   "cell_type": "code",
   "execution_count": 1,
   "id": "0ca91d34",
   "metadata": {},
   "outputs": [],
   "source": [
    "import matplotlib as mpl\n",
    "import matplotlib.pyplot as plt\n",
    "import numpy as np"
   ]
  },
  {
   "cell_type": "code",
   "execution_count": 2,
   "id": "dc094d75",
   "metadata": {},
   "outputs": [],
   "source": [
    "c = np.arange(16).reshape(4,4)"
   ]
  },
  {
   "cell_type": "code",
   "execution_count": 3,
   "id": "940e3fbf",
   "metadata": {},
   "outputs": [
    {
     "data": {
      "text/plain": [
       "array([   0,    1,    2, ..., 9997, 9998, 9999])"
      ]
     },
     "execution_count": 3,
     "metadata": {},
     "output_type": "execute_result"
    }
   ],
   "source": [
    "np.arange(10000)"
   ]
  },
  {
   "cell_type": "code",
   "execution_count": 4,
   "id": "0cb554df",
   "metadata": {},
   "outputs": [],
   "source": [
    "a=np.array([[1,1],[2,3]])"
   ]
  },
  {
   "cell_type": "code",
   "execution_count": 5,
   "id": "725901c6",
   "metadata": {},
   "outputs": [],
   "source": [
    "b=np.array([[4,3],[0,3]])"
   ]
  },
  {
   "cell_type": "code",
   "execution_count": 6,
   "id": "8ae52dc4",
   "metadata": {},
   "outputs": [
    {
     "data": {
      "text/plain": [
       "array([[4, 3],\n",
       "       [0, 9]])"
      ]
     },
     "execution_count": 6,
     "metadata": {},
     "output_type": "execute_result"
    }
   ],
   "source": [
    "a*b"
   ]
  },
  {
   "cell_type": "code",
   "execution_count": 7,
   "id": "df8a7bd9",
   "metadata": {},
   "outputs": [
    {
     "data": {
      "text/plain": [
       "array([[1.        , 1.        ],\n",
       "       [1.41421356, 1.73205081]])"
      ]
     },
     "execution_count": 7,
     "metadata": {},
     "output_type": "execute_result"
    }
   ],
   "source": [
    "np.sqrt(a)"
   ]
  },
  {
   "cell_type": "code",
   "execution_count": 7,
   "id": "dd47ebbe",
   "metadata": {},
   "outputs": [
    {
     "data": {
      "image/png": "[encoded data removed]",
      "text/plain": [
       "<Figure size 432x288 with 1 Axes>"
      ]
     },
     "metadata": {
      "needs_background": "light"
     },
     "output_type": "display_data"
    }
   ],
   "source": [
    "fig, ax = plt.subplots()  # Create a figure containing a single axes.\n",
    "ax.plot([1, 2, 3, 10], [1, 4, 2, 13]);  # Plot some data on the axes."
   ]
  },
  {
   "cell_type": "code",
   "execution_count": 8,
   "id": "e3eb8777",
   "metadata": {},
   "outputs": [],
   "source": [
    "n1 = [i for i in range(15)]\n",
    "n2 = [0] * 15"
   ]
  },
  {
   "cell_type": "code",
   "execution_count": 9,
   "id": "819d0696",
   "metadata": {},
   "outputs": [],
   "source": [
    "from random import randrange"
   ]
  },
  {
   "cell_type": "code",
   "execution_count": 10,
   "id": "89946a16",
   "metadata": {},
   "outputs": [
    {
     "name": "stdout",
     "output_type": "stream",
     "text": [
      "31\n"
     ]
    }
   ],
   "source": [
    "print(randrange(100))"
   ]
  },
  {
   "cell_type": "code",
   "execution_count": null,
   "id": "39188269",
   "metadata": {},
   "outputs": [],
   "source": []
  },
  {
   "cell_type": "code",
   "execution_count": null,
   "id": "c7d888bd",
   "metadata": {},
   "outputs": [],
   "source": []
  }
 ],
 "metadata": {
  "kernelspec": {
   "display_name": "Python 3 (ipykernel)",
   "language": "python",
   "name": "python3"
  },
  "language_info": {
   "codemirror_mode": {
    "name": "ipython",
    "version": 3
   },
   "file_extension": ".py",
   "mimetype": "text/x-python",
   "name": "python",
   "nbconvert_exporter": "python",
   "pygments_lexer": "ipython3",
   "version": "3.9.10"
  }
 },
 "nbformat": 4,
 "nbformat_minor": 5
}
