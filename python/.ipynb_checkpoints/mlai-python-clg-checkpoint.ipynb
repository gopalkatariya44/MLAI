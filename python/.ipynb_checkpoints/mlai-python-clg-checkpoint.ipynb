{
 "cells": [
  {
   "cell_type": "code",
   "execution_count": 13,
   "id": "a3b78595",
   "metadata": {},
   "outputs": [
    {
     "name": "stdout",
     "output_type": "stream",
     "text": [
      "hello world!!!!!!!!\n"
     ]
    }
   ],
   "source": [
    "print(\"hello world!!!!!!!!\")"
   ]
  },
  {
   "cell_type": "code",
   "execution_count": 14,
   "id": "69e2eb99",
   "metadata": {},
   "outputs": [
    {
     "name": "stdout",
     "output_type": "stream",
     "text": [
      "this is  0\n",
      "this is  1\n"
     ]
    }
   ],
   "source": [
    "for i in range(5):\n",
    "    if(i==2):\n",
    "        break\n",
    "#         continue\n",
    "    print(\"this is \",i)\n",
    "else:\n",
    "    print(\"no ist not printing when loop is braking\")\n",
    "    "
   ]
  },
  {
   "cell_type": "markdown",
   "id": "65d7813b",
   "metadata": {},
   "source": [
    "# 27 jan 2022"
   ]
  },
  {
   "cell_type": "markdown",
   "id": "375878c1",
   "metadata": {},
   "source": [
    "## Data structure in pyhton"
   ]
  },
  {
   "cell_type": "code",
   "execution_count": 23,
   "id": "175ea44f",
   "metadata": {},
   "outputs": [],
   "source": [
    "a = []"
   ]
  },
  {
   "cell_type": "code",
   "execution_count": 24,
   "id": "941f2c6c",
   "metadata": {},
   "outputs": [],
   "source": [
    "a.append(10);"
   ]
  },
  {
   "cell_type": "code",
   "execution_count": 25,
   "id": "098fd301",
   "metadata": {},
   "outputs": [],
   "source": [
    "a.append(20);"
   ]
  },
  {
   "cell_type": "code",
   "execution_count": 26,
   "id": "8ef7a3ec",
   "metadata": {},
   "outputs": [
    {
     "data": {
      "text/plain": [
       "[10, 20]"
      ]
     },
     "execution_count": 26,
     "metadata": {},
     "output_type": "execute_result"
    }
   ],
   "source": [
    "a"
   ]
  },
  {
   "cell_type": "code",
   "execution_count": 31,
   "id": "dd887dad",
   "metadata": {},
   "outputs": [
    {
     "name": "stdout",
     "output_type": "stream",
     "text": [
      "Equal\n"
     ]
    }
   ],
   "source": [
    "# Python program to check if all\n",
    "# ments in a List are same\n",
    "\n",
    "def ckeckList(lst):\n",
    "\n",
    "\tele = lst[0]\n",
    "\tchk = True\n",
    "\t\n",
    "\t# Comparing each element with first item\n",
    "\tfor item in lst:\n",
    "\t\tif ele != item:\n",
    "\t\t\tchk = False\n",
    "\t\t\tbreak;\n",
    "\t\t\t\n",
    "\tif (chk == True): print(\"Equal\")\n",
    "\telse: print(\"Not equal\")\t\t\t\n",
    "\n",
    "# Driver Code\n",
    "lst = ['Geeks', 'Geeks', 'Geeks', 'Geeks', ]\n",
    "ckeckList(lst)\n",
    "\n"
   ]
  },
  {
   "cell_type": "code",
   "execution_count": null,
   "id": "be641e18",
   "metadata": {},
   "outputs": [],
   "source": [
    "a= ()"
   ]
  }
 ],
 "metadata": {
  "kernelspec": {
   "display_name": "Python 3 (ipykernel)",
   "language": "python",
   "name": "python3"
  },
  "language_info": {
   "codemirror_mode": {
    "name": "ipython",
    "version": 3
   },
   "file_extension": ".py",
   "mimetype": "text/x-python",
   "name": "python",
   "nbconvert_exporter": "python",
   "pygments_lexer": "ipython3",
   "version": "3.9.7"
  }
 },
 "nbformat": 4,
 "nbformat_minor": 5
}
