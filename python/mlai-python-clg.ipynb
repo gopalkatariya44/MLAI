{
 "cells": [
  {
   "cell_type": "code",
   "execution_count": 1,
   "id": "b7bef7f4",
   "metadata": {},
   "outputs": [
    {
     "name": "stdout",
     "output_type": "stream",
     "text": [
      "hello world!!!!!!!!\n"
     ]
    }
   ],
   "source": [
    "print(\"hello world!!!!!!!!\")"
   ]
  },
  {
   "cell_type": "code",
   "execution_count": 2,
   "id": "b6f4e0bd",
   "metadata": {},
   "outputs": [
    {
     "name": "stdout",
     "output_type": "stream",
     "text": [
      "this is  0\n",
      "this is  1\n"
     ]
    }
   ],
   "source": [
    "for i in range(5):\n",
    "    if(i==2):\n",
    "        break\n",
    "#         continue\n",
    "    print(\"this is \",i)\n",
    "else:\n",
    "    print(\"no ist not printing when loop is braking\")\n",
    "    "
   ]
  },
  {
   "cell_type": "markdown",
   "id": "6e761830",
   "metadata": {},
   "source": [
    "# 27 jan 2022"
   ]
  },
  {
   "cell_type": "markdown",
   "id": "32c9bd42",
   "metadata": {},
   "source": [
    "## Data structure in pyhton"
   ]
  },
  {
   "cell_type": "markdown",
   "id": "b8d32b33",
   "metadata": {},
   "source": [
    "### list can change or update"
   ]
  },
  {
   "cell_type": "code",
   "execution_count": 3,
   "id": "bbd3d744",
   "metadata": {},
   "outputs": [],
   "source": [
    "a = []"
   ]
  },
  {
   "cell_type": "code",
   "execution_count": 4,
   "id": "fcd79669",
   "metadata": {},
   "outputs": [],
   "source": [
    "a.append(10);"
   ]
  },
  {
   "cell_type": "code",
   "execution_count": 5,
   "id": "05520ad5",
   "metadata": {},
   "outputs": [],
   "source": [
    "a.append(20);"
   ]
  },
  {
   "cell_type": "code",
   "execution_count": 6,
   "id": "f729e61a",
   "metadata": {},
   "outputs": [
    {
     "data": {
      "text/plain": [
       "[10, 20]"
      ]
     },
     "execution_count": 6,
     "metadata": {},
     "output_type": "execute_result"
    }
   ],
   "source": [
    "a"
   ]
  },
  {
   "cell_type": "code",
   "execution_count": 7,
   "id": "6bde21d9",
   "metadata": {},
   "outputs": [
    {
     "name": "stdout",
     "output_type": "stream",
     "text": [
      "Equal\n"
     ]
    }
   ],
   "source": [
    "# Python program to check if all\n",
    "# ments in a List are same\n",
    "\n",
    "def ckeckList(lst):\n",
    "\n",
    "\tele = lst[0]\n",
    "\tchk = True\n",
    "\t\n",
    "\t# Comparing each element with first item\n",
    "\tfor item in lst:\n",
    "\t\tif ele != item:\n",
    "\t\t\tchk = False\n",
    "\t\t\tbreak;\n",
    "\t\t\t\n",
    "\tif (chk == True): print(\"Equal\")\n",
    "\telse: print(\"Not equal\")\t\t\t\n",
    "\n",
    "# Driver Code\n",
    "lst = ['Geeks', 'Geeks', 'Geeks', 'Geeks', ]\n",
    "ckeckList(lst)"
   ]
  },
  {
   "cell_type": "markdown",
   "id": "4895bb7d",
   "metadata": {},
   "source": [
    "### tuple can't change or upadate"
   ]
  },
  {
   "cell_type": "code",
   "execution_count": 8,
   "id": "219f807f",
   "metadata": {},
   "outputs": [],
   "source": [
    " a = (\"hey\",1,2,3)"
   ]
  },
  {
   "cell_type": "code",
   "execution_count": 9,
   "id": "757df35a",
   "metadata": {},
   "outputs": [
    {
     "data": {
      "text/plain": [
       "('hey', 1, 2, 3)"
      ]
     },
     "execution_count": 9,
     "metadata": {},
     "output_type": "execute_result"
    }
   ],
   "source": [
    "a"
   ]
  },
  {
   "cell_type": "code",
   "execution_count": 10,
   "id": "dcbd5a6a",
   "metadata": {},
   "outputs": [
    {
     "name": "stdout",
     "output_type": "stream",
     "text": [
      "1\n",
      "2\n",
      "3\n"
     ]
    }
   ],
   "source": [
    "# A generator function that yields 1 for first time,\n",
    "# 2 second time and 3 third time\n",
    "def simpleGeneratorFun():\n",
    "\tyield 1\t\t\t\n",
    "\tyield 2\t\t\t\n",
    "\tyield 3\t\t\t\n",
    "\n",
    "# Driver code to check above generator function\n",
    "for value in simpleGeneratorFun():\n",
    "\tprint(value)\n",
    "\n"
   ]
  },
  {
   "cell_type": "code",
   "execution_count": 11,
   "id": "6a41bbba",
   "metadata": {},
   "outputs": [],
   "source": [
    "import requests"
   ]
  },
  {
   "cell_type": "code",
   "execution_count": 12,
   "id": "1ced9dd3",
   "metadata": {},
   "outputs": [],
   "source": [
    "response = requests.get(\"https://api.github.com/user\")"
   ]
  },
  {
   "cell_type": "code",
   "execution_count": 13,
   "id": "5f6fedb4",
   "metadata": {},
   "outputs": [
    {
     "name": "stdout",
     "output_type": "stream",
     "text": [
      "{'message': 'Requires authentication', 'documentation_url': 'https://docs.github.com/rest/reference/users#get-the-authenticated-user'}\n"
     ]
    }
   ],
   "source": [
    "print(response.json())"
   ]
  },
  {
   "cell_type": "code",
   "execution_count": 14,
   "id": "d08cf9c1",
   "metadata": {},
   "outputs": [],
   "source": [
    "import asyncio"
   ]
  },
  {
   "cell_type": "code",
   "execution_count": 15,
   "id": "2b125b9f",
   "metadata": {},
   "outputs": [],
   "source": [
    "async def main():\n",
    "    print('hello')\n",
    "    await asyncio.sleep(1)\n",
    "    print('world')"
   ]
  },
  {
   "cell_type": "code",
   "execution_count": null,
   "id": "17a00650",
   "metadata": {},
   "outputs": [],
   "source": []
  },
  {
   "cell_type": "code",
   "execution_count": 16,
   "id": "2ed2daca",
   "metadata": {},
   "outputs": [
    {
     "name": "stdout",
     "output_type": "stream",
     "text": [
      "Enter diamond's height: 4\n",
      "              * \n",
      "           *  *  * \n",
      "        *  *  *  *  * \n",
      "     *  *  *  *  *  *  * \n",
      "        *  *  *  *  * \n",
      "           *  *  * \n",
      "              * \n"
     ]
    }
   ],
   "source": [
    "h = eval(input(\"Enter diamond's height: \"))\n",
    "for x in range(h):\n",
    "    print(\"   \" * (h - x), \" * \" * (2*x + 1))\n",
    "for x in range(h - 2, -1, -1):\n",
    "    print(\"   \" * (h - x), \" * \" * (2*x + 1))"
   ]
  },
  {
   "cell_type": "code",
   "execution_count": 17,
   "id": "8be5fc26",
   "metadata": {},
   "outputs": [
    {
     "name": "stdout",
     "output_type": "stream",
     "text": [
      "\n",
      " *  \n",
      " *   *  \n",
      " *   *   *  \n",
      " *   *   *   *  \n"
     ]
    }
   ],
   "source": [
    "for i in range(5):\n",
    "    for j in range(i):\n",
    "        print(\" * \",end=\" \")\n",
    "    print()"
   ]
  },
  {
   "cell_type": "code",
   "execution_count": 18,
   "id": "47b229a9",
   "metadata": {},
   "outputs": [
    {
     "data": {
      "text/plain": [
       "140464489556368"
      ]
     },
     "execution_count": 18,
     "metadata": {},
     "output_type": "execute_result"
    }
   ],
   "source": [
    "id(i)"
   ]
  },
  {
   "cell_type": "code",
   "execution_count": 19,
   "id": "a2a29f86",
   "metadata": {},
   "outputs": [],
   "source": [
    "sets = {\"heyy\",1}"
   ]
  },
  {
   "cell_type": "code",
   "execution_count": 20,
   "id": "22b75cbb",
   "metadata": {},
   "outputs": [
    {
     "data": {
      "text/plain": [
       "{1, 'heyy'}"
      ]
     },
     "execution_count": 20,
     "metadata": {},
     "output_type": "execute_result"
    }
   ],
   "source": [
    "sets"
   ]
  },
  {
   "cell_type": "code",
   "execution_count": 21,
   "id": "c48e3063",
   "metadata": {},
   "outputs": [],
   "source": [
    "sets.add(\"no\")"
   ]
  },
  {
   "cell_type": "code",
   "execution_count": 22,
   "id": "82f05118",
   "metadata": {},
   "outputs": [],
   "source": [
    "sets.remove(1)"
   ]
  },
  {
   "cell_type": "code",
   "execution_count": 23,
   "id": "3b4eda66",
   "metadata": {},
   "outputs": [],
   "source": [
    "ls =[1,2,3,['a','b','c'],4,5,6,['d','e','f']]"
   ]
  },
  {
   "cell_type": "code",
   "execution_count": 24,
   "id": "faaec581",
   "metadata": {},
   "outputs": [
    {
     "data": {
      "text/plain": [
       "1"
      ]
     },
     "execution_count": 24,
     "metadata": {},
     "output_type": "execute_result"
    }
   ],
   "source": [
    "ls[0]"
   ]
  },
  {
   "cell_type": "code",
   "execution_count": 25,
   "id": "ca1ffe0f",
   "metadata": {},
   "outputs": [
    {
     "name": "stdout",
     "output_type": "stream",
     "text": [
      "1\n"
     ]
    },
    {
     "ename": "TypeError",
     "evalue": "'int' object is not subscriptable",
     "output_type": "error",
     "traceback": [
      "\u001b[0;31m---------------------------------------------------------------------------\u001b[0m",
      "\u001b[0;31mTypeError\u001b[0m                                 Traceback (most recent call last)",
      "\u001b[0;32m/var/folders/1r/6kld_9052m7dp39n1x_g2vtm0000gn/T/ipykernel_51539/2126131750.py\u001b[0m in \u001b[0;36m<module>\u001b[0;34m\u001b[0m\n\u001b[1;32m      4\u001b[0m     \u001b[0;32mif\u001b[0m \u001b[0mstr\u001b[0m\u001b[0;34m(\u001b[0m\u001b[0mi\u001b[0m\u001b[0;34m)\u001b[0m \u001b[0;34m==\u001b[0m \u001b[0mi\u001b[0m\u001b[0;34m:\u001b[0m\u001b[0;34m\u001b[0m\u001b[0;34m\u001b[0m\u001b[0m\n\u001b[1;32m      5\u001b[0m         \u001b[0mprint\u001b[0m\u001b[0;34m(\u001b[0m\u001b[0;34m\"  \"\u001b[0m\u001b[0;34m,\u001b[0m\u001b[0mi\u001b[0m\u001b[0;34m)\u001b[0m\u001b[0;34m\u001b[0m\u001b[0;34m\u001b[0m\u001b[0m\n\u001b[0;32m----> 6\u001b[0;31m     \u001b[0;32mif\u001b[0m \u001b[0mint\u001b[0m\u001b[0;34m(\u001b[0m\u001b[0mi\u001b[0m\u001b[0;34m[\u001b[0m\u001b[0mi\u001b[0m\u001b[0;34m]\u001b[0m\u001b[0;34m)\u001b[0m \u001b[0;34m==\u001b[0m \u001b[0mi\u001b[0m\u001b[0;34m:\u001b[0m\u001b[0;34m\u001b[0m\u001b[0;34m\u001b[0m\u001b[0m\n\u001b[0m\u001b[1;32m      7\u001b[0m         \u001b[0mprint\u001b[0m\u001b[0;34m(\u001b[0m\u001b[0mi\u001b[0m\u001b[0;34m)\u001b[0m\u001b[0;34m\u001b[0m\u001b[0;34m\u001b[0m\u001b[0m\n",
      "\u001b[0;31mTypeError\u001b[0m: 'int' object is not subscriptable"
     ]
    }
   ],
   "source": [
    "for i in ls:    \n",
    "    if int(i) == i:\n",
    "        print(i)\n",
    "    if str(i) == i:\n",
    "        print(\"  \",i)\n",
    "    if int(i[i]) == i:\n",
    "        print(i)"
   ]
  },
  {
   "cell_type": "code",
   "execution_count": 36,
   "id": "6de24944",
   "metadata": {},
   "outputs": [],
   "source": [
    "ls = [1,2,2,2, '2', 3, 'd',['a', 'b', 'c'], 14, 4, 5, 6, ['d', 'e', 'f'],7, 'g', 8, 'h', [9, 10, 'i', 'j'],11,'aansh']"
   ]
  },
  {
   "cell_type": "code",
   "execution_count": 37,
   "id": "9ad2b19c",
   "metadata": {},
   "outputs": [
    {
     "name": "stdout",
     "output_type": "stream",
     "text": [
      "1\n",
      "2\n",
      "2\n",
      "2\n",
      "   2\n",
      "3\n"
     ]
    },
    {
     "ename": "ValueError",
     "evalue": "invalid literal for int() with base 10: 'd'",
     "output_type": "error",
     "traceback": [
      "\u001b[0;31m---------------------------------------------------------------------------\u001b[0m",
      "\u001b[0;31mValueError\u001b[0m                                Traceback (most recent call last)",
      "\u001b[0;32m/var/folders/1r/6kld_9052m7dp39n1x_g2vtm0000gn/T/ipykernel_51539/3215531181.py\u001b[0m in \u001b[0;36m<module>\u001b[0;34m\u001b[0m\n\u001b[1;32m      1\u001b[0m \u001b[0;32mfor\u001b[0m \u001b[0mi\u001b[0m \u001b[0;32min\u001b[0m \u001b[0mls\u001b[0m\u001b[0;34m:\u001b[0m\u001b[0;34m\u001b[0m\u001b[0;34m\u001b[0m\u001b[0m\n\u001b[0;32m----> 2\u001b[0;31m     \u001b[0;32mif\u001b[0m \u001b[0mint\u001b[0m\u001b[0;34m(\u001b[0m\u001b[0mi\u001b[0m\u001b[0;34m)\u001b[0m \u001b[0;34m==\u001b[0m \u001b[0mi\u001b[0m\u001b[0;34m:\u001b[0m\u001b[0;34m\u001b[0m\u001b[0;34m\u001b[0m\u001b[0m\n\u001b[0m\u001b[1;32m      3\u001b[0m         \u001b[0mprint\u001b[0m\u001b[0;34m(\u001b[0m\u001b[0mi\u001b[0m\u001b[0;34m)\u001b[0m\u001b[0;34m\u001b[0m\u001b[0;34m\u001b[0m\u001b[0m\n\u001b[1;32m      4\u001b[0m     \u001b[0;32mif\u001b[0m \u001b[0mstr\u001b[0m\u001b[0;34m(\u001b[0m\u001b[0mi\u001b[0m\u001b[0;34m)\u001b[0m \u001b[0;34m==\u001b[0m \u001b[0mi\u001b[0m\u001b[0;34m:\u001b[0m\u001b[0;34m\u001b[0m\u001b[0;34m\u001b[0m\u001b[0m\n\u001b[1;32m      5\u001b[0m         \u001b[0mprint\u001b[0m\u001b[0;34m(\u001b[0m\u001b[0;34m\"  \"\u001b[0m\u001b[0;34m,\u001b[0m\u001b[0mi\u001b[0m\u001b[0;34m)\u001b[0m\u001b[0;34m\u001b[0m\u001b[0;34m\u001b[0m\u001b[0m\n",
      "\u001b[0;31mValueError\u001b[0m: invalid literal for int() with base 10: 'd'"
     ]
    }
   ],
   "source": [
    "for i in ls:    \n",
    "    if int(i) == i:\n",
    "        print(i)\n",
    "    if str(i) == i:\n",
    "        print(\"  \",i)"
   ]
  },
  {
   "cell_type": "code",
   "execution_count": null,
   "id": "41d221e0",
   "metadata": {},
   "outputs": [],
   "source": []
  },
  {
   "cell_type": "code",
   "execution_count": null,
   "id": "96f13704",
   "metadata": {},
   "outputs": [],
   "source": []
  }
 ],
 "metadata": {
  "kernelspec": {
   "display_name": "Python 3 (ipykernel)",
   "language": "python",
   "name": "python3"
  },
  "language_info": {
   "codemirror_mode": {
    "name": "ipython",
    "version": 3
   },
   "file_extension": ".py",
   "mimetype": "text/x-python",
   "name": "python",
   "nbconvert_exporter": "python",
   "pygments_lexer": "ipython3",
   "version": "3.9.7"
  }
 },
 "nbformat": 4,
 "nbformat_minor": 5
}
