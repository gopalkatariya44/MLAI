{
 "cells": [
  {
   "cell_type": "code",
   "execution_count": 1,
   "id": "09c2270a",
   "metadata": {},
   "outputs": [],
   "source": [
    "a = \"hello \"\n",
    "b = \"gopal katariya\""
   ]
  },
  {
   "cell_type": "code",
   "execution_count": 2,
   "id": "aea27dff",
   "metadata": {},
   "outputs": [
    {
     "name": "stdout",
     "output_type": "stream",
     "text": [
      "hey , hello  youre name is gopal katariya\n"
     ]
    }
   ],
   "source": [
    "print(\"hey , {} youre name is {}\".format(a,b))"
   ]
  },
  {
   "cell_type": "code",
   "execution_count": 3,
   "id": "28110f19",
   "metadata": {},
   "outputs": [
    {
     "data": {
      "text/plain": [
       "20"
      ]
     },
     "execution_count": 3,
     "metadata": {},
     "output_type": "execute_result"
    }
   ],
   "source": [
    "len(a+b)"
   ]
  },
  {
   "cell_type": "code",
   "execution_count": 4,
   "id": "0b51f9eb",
   "metadata": {},
   "outputs": [
    {
     "data": {
      "text/plain": [
       "6"
      ]
     },
     "execution_count": 4,
     "metadata": {},
     "output_type": "execute_result"
    }
   ],
   "source": [
    "len(a)"
   ]
  },
  {
   "cell_type": "code",
   "execution_count": 5,
   "id": "f179e708",
   "metadata": {},
   "outputs": [],
   "source": [
    "list = b.split()"
   ]
  },
  {
   "cell_type": "code",
   "execution_count": 6,
   "id": "9c15da73",
   "metadata": {},
   "outputs": [
    {
     "data": {
      "text/plain": [
       "['gopal', 'katariya']"
      ]
     },
     "execution_count": 6,
     "metadata": {},
     "output_type": "execute_result"
    }
   ],
   "source": [
    "list"
   ]
  },
  {
   "cell_type": "code",
   "execution_count": 7,
   "id": "2854c5e6",
   "metadata": {},
   "outputs": [
    {
     "name": "stdout",
     "output_type": "stream",
     "text": [
      "0\n",
      "gopal\n",
      "1\n",
      "katariya\n"
     ]
    }
   ],
   "source": [
    "for i in range(len(list)):\n",
    "    print(i)\n",
    "    print(list[i])"
   ]
  },
  {
   "cell_type": "code",
   "execution_count": 8,
   "id": "fcac93fa",
   "metadata": {},
   "outputs": [
    {
     "name": "stdout",
     "output_type": "stream",
     "text": [
      "hey there!\n"
     ]
    }
   ],
   "source": [
    "if 4 > 2:\n",
    "    print(\"hey there!\")"
   ]
  },
  {
   "cell_type": "code",
   "execution_count": 9,
   "id": "4e4c4a37",
   "metadata": {},
   "outputs": [
    {
     "data": {
      "text/plain": [
       "True"
      ]
     },
     "execution_count": 9,
     "metadata": {},
     "output_type": "execute_result"
    }
   ],
   "source": [
    "True and True"
   ]
  },
  {
   "cell_type": "code",
   "execution_count": 10,
   "id": "0f182ba9",
   "metadata": {},
   "outputs": [
    {
     "name": "stdout",
     "output_type": "stream",
     "text": [
      "False\n",
      "True\n",
      "False\n",
      "True\n",
      "False\n",
      "True\n"
     ]
    }
   ],
   "source": [
    "a = 10\n",
    "b = 15\n",
    "print(a == b)\n",
    "print(a != b)\n",
    "print(a > b)\n",
    "print(a < b)\n",
    "print(a >= b)\n",
    "print(a <= b)"
   ]
  },
  {
   "cell_type": "code",
   "execution_count": 11,
   "id": "98fd372e",
   "metadata": {},
   "outputs": [
    {
     "name": "stdout",
     "output_type": "stream",
     "text": [
      "5\n",
      "1\n",
      "6\n",
      "1.5\n",
      "1\n",
      "9\n",
      "1\n"
     ]
    }
   ],
   "source": [
    "a = 3\n",
    "b = 2\n",
    "print(a + b)\n",
    "print(a - b)\n",
    "print(a * b)\n",
    "print(a / b)\n",
    "print(a % b)\n",
    "print(a ** b)\n",
    "print(a // b)"
   ]
  },
  {
   "cell_type": "code",
   "execution_count": 12,
   "id": "65a4aa39",
   "metadata": {},
   "outputs": [],
   "source": [
    "def hello(data):\n",
    "    print(data,\"is not available\")"
   ]
  },
  {
   "cell_type": "code",
   "execution_count": 13,
   "id": "5bb8ef18",
   "metadata": {},
   "outputs": [
    {
     "name": "stdout",
     "output_type": "stream",
     "text": [
      "10 is not available\n"
     ]
    }
   ],
   "source": [
    "hello(10)"
   ]
  },
  {
   "cell_type": "code",
   "execution_count": 14,
   "id": "1c6370fc",
   "metadata": {},
   "outputs": [],
   "source": [
    "list = [1,2,3,4,5]\n",
    "tuple = (1,2,3,4,5)\n",
    "dict = {'key':'is this key'}\n",
    "set = {1,2,3,4,5}"
   ]
  },
  {
   "cell_type": "code",
   "execution_count": 15,
   "id": "3bf2991b",
   "metadata": {},
   "outputs": [
    {
     "data": {
      "text/plain": [
       "list"
      ]
     },
     "execution_count": 15,
     "metadata": {},
     "output_type": "execute_result"
    }
   ],
   "source": [
    "# 1.List is always in ordered form.\n",
    "# 2.List has indexing support.\n",
    "# 3.List has support assignment operator(=).\n",
    "# 4.List is mutable means changeable , we can update,delete and add elements.\n",
    "# 5.In List we can store duplicate values.\n",
    "type(list)"
   ]
  },
  {
   "cell_type": "code",
   "execution_count": 16,
   "id": "53f6a28c",
   "metadata": {},
   "outputs": [
    {
     "data": {
      "text/plain": [
       "tuple"
      ]
     },
     "execution_count": 16,
     "metadata": {},
     "output_type": "execute_result"
    }
   ],
   "source": [
    "type(tuple)"
   ]
  },
  {
   "cell_type": "code",
   "execution_count": 17,
   "id": "76424794",
   "metadata": {},
   "outputs": [
    {
     "data": {
      "text/plain": [
       "set"
      ]
     },
     "execution_count": 17,
     "metadata": {},
     "output_type": "execute_result"
    }
   ],
   "source": [
    "type(set)"
   ]
  },
  {
   "cell_type": "code",
   "execution_count": 18,
   "id": "ec047399",
   "metadata": {},
   "outputs": [
    {
     "data": {
      "text/plain": [
       "dict"
      ]
     },
     "execution_count": 18,
     "metadata": {},
     "output_type": "execute_result"
    }
   ],
   "source": [
    "type(dict)"
   ]
  },
  {
   "cell_type": "code",
   "execution_count": 19,
   "id": "7448b621",
   "metadata": {},
   "outputs": [
    {
     "data": {
      "text/plain": [
       "[1, 2, 3, 4, 5]"
      ]
     },
     "execution_count": 19,
     "metadata": {},
     "output_type": "execute_result"
    }
   ],
   "source": [
    "list"
   ]
  },
  {
   "cell_type": "code",
   "execution_count": 20,
   "id": "e8d70d8c",
   "metadata": {},
   "outputs": [],
   "source": [
    "pr = [True,True,False,True,True]"
   ]
  },
  {
   "cell_type": "code",
   "execution_count": 21,
   "id": "85ae033f",
   "metadata": {},
   "outputs": [
    {
     "name": "stdout",
     "output_type": "stream",
     "text": [
      "80.0\n"
     ]
    }
   ],
   "source": [
    "count = 0\n",
    "for i in pr:\n",
    "    if i == True:\n",
    "        count += 1\n",
    "print((count/len(pr))*100)"
   ]
  },
  {
   "cell_type": "code",
   "execution_count": 22,
   "id": "4026c3e1",
   "metadata": {},
   "outputs": [],
   "source": [
    "dict['key'] = 'okh'"
   ]
  },
  {
   "cell_type": "code",
   "execution_count": 23,
   "id": "7708d226",
   "metadata": {},
   "outputs": [
    {
     "data": {
      "text/plain": [
       "{'key': 'okh'}"
      ]
     },
     "execution_count": 23,
     "metadata": {},
     "output_type": "execute_result"
    }
   ],
   "source": [
    "dict"
   ]
  },
  {
   "cell_type": "code",
   "execution_count": 24,
   "id": "be353904",
   "metadata": {},
   "outputs": [
    {
     "data": {
      "text/plain": [
       "[1, 2, 3, 4, 5]"
      ]
     },
     "execution_count": 24,
     "metadata": {},
     "output_type": "execute_result"
    }
   ],
   "source": [
    "list"
   ]
  },
  {
   "cell_type": "code",
   "execution_count": 25,
   "id": "1ecab5cb",
   "metadata": {},
   "outputs": [
    {
     "data": {
      "text/plain": [
       "1"
      ]
     },
     "execution_count": 25,
     "metadata": {},
     "output_type": "execute_result"
    }
   ],
   "source": [
    "list.pop(0)"
   ]
  },
  {
   "cell_type": "code",
   "execution_count": 26,
   "id": "0652293d",
   "metadata": {},
   "outputs": [
    {
     "data": {
      "text/plain": [
       "[2, 3, 4, 5]"
      ]
     },
     "execution_count": 26,
     "metadata": {},
     "output_type": "execute_result"
    }
   ],
   "source": [
    "list"
   ]
  },
  {
   "cell_type": "code",
   "execution_count": 27,
   "id": "e0bdfae4",
   "metadata": {},
   "outputs": [],
   "source": [
    "import socket"
   ]
  },
  {
   "cell_type": "code",
   "execution_count": 28,
   "id": "e897013a",
   "metadata": {},
   "outputs": [
    {
     "ename": "KeyboardInterrupt",
     "evalue": "",
     "output_type": "error",
     "traceback": [
      "\u001b[0;31m---------------------------------------------------------------------------\u001b[0m",
      "\u001b[0;31mKeyboardInterrupt\u001b[0m                         Traceback (most recent call last)",
      "Input \u001b[0;32mIn [28]\u001b[0m, in \u001b[0;36m<cell line: 6>\u001b[0;34m()\u001b[0m\n\u001b[1;32m      4\u001b[0m s\u001b[38;5;241m.\u001b[39mbind((host,port))\n\u001b[1;32m      5\u001b[0m s\u001b[38;5;241m.\u001b[39mlisten(\u001b[38;5;241m5\u001b[39m)\n\u001b[0;32m----> 6\u001b[0m conn, addr \u001b[38;5;241m=\u001b[39m \u001b[43ms\u001b[49m\u001b[38;5;241;43m.\u001b[39;49m\u001b[43maccept\u001b[49m\u001b[43m(\u001b[49m\u001b[43m)\u001b[49m\n\u001b[1;32m      7\u001b[0m \u001b[38;5;28mprint\u001b[39m(addr[\u001b[38;5;241m0\u001b[39m],addr[\u001b[38;5;241m1\u001b[39m])\n\u001b[1;32m      8\u001b[0m \u001b[38;5;28;01mwhile\u001b[39;00m \u001b[38;5;28;01mTrue\u001b[39;00m:\n",
      "File \u001b[0;32m/opt/homebrew/Cellar/python@3.9/3.9.12/Frameworks/Python.framework/Versions/3.9/lib/python3.9/socket.py:293\u001b[0m, in \u001b[0;36msocket.accept\u001b[0;34m(self)\u001b[0m\n\u001b[1;32m    286\u001b[0m \u001b[38;5;28;01mdef\u001b[39;00m \u001b[38;5;21maccept\u001b[39m(\u001b[38;5;28mself\u001b[39m):\n\u001b[1;32m    287\u001b[0m     \u001b[38;5;124;03m\"\"\"accept() -> (socket object, address info)\u001b[39;00m\n\u001b[1;32m    288\u001b[0m \n\u001b[1;32m    289\u001b[0m \u001b[38;5;124;03m    Wait for an incoming connection.  Return a new socket\u001b[39;00m\n\u001b[1;32m    290\u001b[0m \u001b[38;5;124;03m    representing the connection, and the address of the client.\u001b[39;00m\n\u001b[1;32m    291\u001b[0m \u001b[38;5;124;03m    For IP sockets, the address info is a pair (hostaddr, port).\u001b[39;00m\n\u001b[1;32m    292\u001b[0m \u001b[38;5;124;03m    \"\"\"\u001b[39;00m\n\u001b[0;32m--> 293\u001b[0m     fd, addr \u001b[38;5;241m=\u001b[39m \u001b[38;5;28;43mself\u001b[39;49m\u001b[38;5;241;43m.\u001b[39;49m\u001b[43m_accept\u001b[49m\u001b[43m(\u001b[49m\u001b[43m)\u001b[49m\n\u001b[1;32m    294\u001b[0m     sock \u001b[38;5;241m=\u001b[39m socket(\u001b[38;5;28mself\u001b[39m\u001b[38;5;241m.\u001b[39mfamily, \u001b[38;5;28mself\u001b[39m\u001b[38;5;241m.\u001b[39mtype, \u001b[38;5;28mself\u001b[39m\u001b[38;5;241m.\u001b[39mproto, fileno\u001b[38;5;241m=\u001b[39mfd)\n\u001b[1;32m    295\u001b[0m     \u001b[38;5;66;03m# Issue #7995: if no default timeout is set and the listening\u001b[39;00m\n\u001b[1;32m    296\u001b[0m     \u001b[38;5;66;03m# socket had a (non-zero) timeout, force the new socket in blocking\u001b[39;00m\n\u001b[1;32m    297\u001b[0m     \u001b[38;5;66;03m# mode to override platform-specific socket flags inheritance.\u001b[39;00m\n",
      "\u001b[0;31mKeyboardInterrupt\u001b[0m: "
     ]
    }
   ],
   "source": [
    "host = socket.gethostname()\n",
    "port = 12345\n",
    "s = socket.socket()\n",
    "s.bind((host,port))\n",
    "s.listen(5)\n",
    "conn, addr = s.accept()\n",
    "print(addr[0],addr[1])\n",
    "while True:\n",
    "    data = conn.recv(1024)\n",
    "    if not data: break\n",
    "    conn.sendall(data)\n",
    "conn.close()"
   ]
  },
  {
   "cell_type": "code",
   "execution_count": null,
   "id": "cc935463",
   "metadata": {},
   "outputs": [],
   "source": [
    "#!C:\\Python33\\python.exe\n",
    "# Echo client program\n",
    "import socket\n",
    "host = socket.gethostname()\n",
    "port = 12345\n",
    "s = socket.socket()\n",
    "s.connect((host, port))\n",
    "s.sendall(b'Welcome User!')\n",
    "data = s.recv(1024)\n",
    "s.close()\n",
    "print(repr(data))"
   ]
  },
  {
   "cell_type": "code",
   "execution_count": 53,
   "id": "dc45baa4",
   "metadata": {},
   "outputs": [
    {
     "name": "stdout",
     "output_type": "stream",
     "text": [
      "hey there\n"
     ]
    }
   ],
   "source": [
    "class Car:\n",
    "    def __init__(self):\n",
    "        print('hey there')\n",
    "        \n",
    "class Carr(Car):\n",
    "    def __init__(self):\n",
    "        super().__init__()\n",
    "\n",
    "maruti = Carr()"
   ]
  },
  {
   "cell_type": "code",
   "execution_count": 52,
   "id": "8acaebe5",
   "metadata": {},
   "outputs": [
    {
     "name": "stdout",
     "output_type": "stream",
     "text": [
      "It is a mammal.\n",
      "Has legs and tail\n"
     ]
    }
   ],
   "source": [
    "# Python program to demonstrate\n",
    "# super function\n",
    "\n",
    "\n",
    "class Animals:\n",
    "\t\n",
    "\t# Initializing constructor\n",
    "\tdef __init__(self):\n",
    "\t\tself.legs = 4\n",
    "\t\tself.domestic = True\n",
    "\t\tself.tail = True\n",
    "\t\tself.mammals = True\n",
    "\t\n",
    "\tdef isMammal(self):\n",
    "\t\tif self.mammals:\n",
    "\t\t\tprint(\"It is a mammal.\")\n",
    "\t\n",
    "\tdef isDomestic(self):\n",
    "\t\tif self.domestic:\n",
    "\t\t\tprint(\"It is a domestic animal.\")\n",
    "\t\n",
    "class Dogs(Animals):\n",
    "\tdef __init__(self):\n",
    "\t\tsuper().__init__()\n",
    "\n",
    "\tdef isMammal(self):\n",
    "\t\tsuper().isMammal()\n",
    "\n",
    "class Horses(Animals):\n",
    "\tdef __init__(self):\n",
    "\t\tsuper().__init__()\n",
    "\n",
    "\tdef hasTailandLegs(self):\n",
    "\t\tif self.tail and self.legs == 4:\n",
    "\t\t\tprint(\"Has legs and tail\")\n",
    "\n",
    "# Driver code\n",
    "Tom = Dogs()\n",
    "Tom.isMammal()\n",
    "Bruno = Horses()\n",
    "Bruno.hasTailandLegs()"
   ]
  },
  {
   "cell_type": "code",
   "execution_count": null,
   "id": "7aa5efc6",
   "metadata": {},
   "outputs": [],
   "source": []
  },
  {
   "cell_type": "code",
   "execution_count": null,
   "id": "d1b5944b",
   "metadata": {},
   "outputs": [],
   "source": [
    "\n"
   ]
  },
  {
   "cell_type": "code",
   "execution_count": null,
   "id": "485d87c5",
   "metadata": {},
   "outputs": [],
   "source": []
  }
 ],
 "metadata": {
  "kernelspec": {
   "display_name": "Python 3 (ipykernel)",
   "language": "python",
   "name": "python3"
  },
  "language_info": {
   "codemirror_mode": {
    "name": "ipython",
    "version": 3
   },
   "file_extension": ".py",
   "mimetype": "text/x-python",
   "name": "python",
   "nbconvert_exporter": "python",
   "pygments_lexer": "ipython3",
   "version": "3.9.12"
  }
 },
 "nbformat": 4,
 "nbformat_minor": 5
}
