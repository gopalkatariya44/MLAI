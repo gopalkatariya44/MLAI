{
 "cells": [
  {
   "cell_type": "markdown",
   "id": "d4162c85",
   "metadata": {},
   "source": [
    "#### imports"
   ]
  },
  {
   "cell_type": "code",
   "execution_count": 1,
   "id": "8fb42ec0",
   "metadata": {},
   "outputs": [],
   "source": [
    "import pandas as pd\n",
    "import numpy as np"
   ]
  },
  {
   "cell_type": "code",
   "execution_count": 2,
   "id": "b6895357",
   "metadata": {},
   "outputs": [],
   "source": [
    "df =  pd.read_excel(\"All_IPL_Match_Scores_Easy.xlsx\")"
   ]
  },
  {
   "cell_type": "code",
   "execution_count": 3,
   "id": "b6895357",
   "metadata": {},
   "outputs": [
    {
     "data": {
      "text/html": [
       "<div>\n",
       "<style scoped>\n",
       "    .dataframe tbody tr th:only-of-type {\n",
       "        vertical-align: middle;\n",
       "    }\n",
       "\n",
       "    .dataframe tbody tr th {\n",
       "        vertical-align: top;\n",
       "    }\n",
       "\n",
       "    .dataframe thead th {\n",
       "        text-align: right;\n",
       "    }\n",
       "</style>\n",
       "<table border=\"1\" class=\"dataframe\">\n",
       "  <thead>\n",
       "    <tr style=\"text-align: right;\">\n",
       "      <th></th>\n",
       "      <th>Match_Number</th>\n",
       "      <th>Match</th>\n",
       "      <th>Date</th>\n",
       "      <th>Year</th>\n",
       "      <th>Venue</th>\n",
       "      <th>Team_Batting_First</th>\n",
       "      <th>Team_Batting_Second</th>\n",
       "      <th>Bat_First_Runs_Scored</th>\n",
       "      <th>Bat_First_Wickets_Lost</th>\n",
       "      <th>Bat_First_Overs_Consumed</th>\n",
       "      <th>...</th>\n",
       "      <th>Bat_Second_10_ov_score</th>\n",
       "      <th>Bat_Second_10_ov_wkts_lost</th>\n",
       "      <th>Bat_Second_10_ov_Req_RR</th>\n",
       "      <th>Bat_Second_15_ov_score</th>\n",
       "      <th>Bat_Second_15_ov_wkts_lost</th>\n",
       "      <th>Bat_Second_15_ov_Req_RR</th>\n",
       "      <th>Bat_Second_20_ov_score</th>\n",
       "      <th>Bat_Second_20_ov_wkts_lost</th>\n",
       "      <th>Match_Time</th>\n",
       "      <th>Duckworth Lewis Used</th>\n",
       "    </tr>\n",
       "  </thead>\n",
       "  <tbody>\n",
       "    <tr>\n",
       "      <th>0</th>\n",
       "      <td>1</td>\n",
       "      <td>League Match</td>\n",
       "      <td>Apr 18</td>\n",
       "      <td>2008</td>\n",
       "      <td>Bangalore</td>\n",
       "      <td>Kolkata</td>\n",
       "      <td>Bangalore</td>\n",
       "      <td>222</td>\n",
       "      <td>3</td>\n",
       "      <td>20.0</td>\n",
       "      <td>...</td>\n",
       "      <td>51.0</td>\n",
       "      <td>7.0</td>\n",
       "      <td>17.2</td>\n",
       "      <td>81.0</td>\n",
       "      <td>9.0</td>\n",
       "      <td>28.4</td>\n",
       "      <td>NaN</td>\n",
       "      <td>NaN</td>\n",
       "      <td>Evening</td>\n",
       "      <td>NaN</td>\n",
       "    </tr>\n",
       "    <tr>\n",
       "      <th>1</th>\n",
       "      <td>2</td>\n",
       "      <td>League Match</td>\n",
       "      <td>Apr 19</td>\n",
       "      <td>2008</td>\n",
       "      <td>Mohali</td>\n",
       "      <td>Chennai</td>\n",
       "      <td>Punjab</td>\n",
       "      <td>240</td>\n",
       "      <td>5</td>\n",
       "      <td>20.0</td>\n",
       "      <td>...</td>\n",
       "      <td>110.0</td>\n",
       "      <td>1.0</td>\n",
       "      <td>13.1</td>\n",
       "      <td>165.0</td>\n",
       "      <td>3.0</td>\n",
       "      <td>15.2</td>\n",
       "      <td>207.0</td>\n",
       "      <td>4.0</td>\n",
       "      <td>Afternoon</td>\n",
       "      <td>NaN</td>\n",
       "    </tr>\n",
       "  </tbody>\n",
       "</table>\n",
       "<p>2 rows × 43 columns</p>\n",
       "</div>"
      ],
      "text/plain": [
       "   Match_Number         Match    Date  Year      Venue Team_Batting_First  \\\n",
       "0             1  League Match  Apr 18  2008  Bangalore            Kolkata   \n",
       "1             2  League Match  Apr 19  2008     Mohali            Chennai   \n",
       "\n",
       "  Team_Batting_Second  Bat_First_Runs_Scored  Bat_First_Wickets_Lost  \\\n",
       "0           Bangalore                    222                       3   \n",
       "1              Punjab                    240                       5   \n",
       "\n",
       "   Bat_First_Overs_Consumed  ...  Bat_Second_10_ov_score  \\\n",
       "0                      20.0  ...                    51.0   \n",
       "1                      20.0  ...                   110.0   \n",
       "\n",
       "   Bat_Second_10_ov_wkts_lost  Bat_Second_10_ov_Req_RR  \\\n",
       "0                         7.0                     17.2   \n",
       "1                         1.0                     13.1   \n",
       "\n",
       "   Bat_Second_15_ov_score  Bat_Second_15_ov_wkts_lost Bat_Second_15_ov_Req_RR  \\\n",
       "0                    81.0                         9.0                    28.4   \n",
       "1                   165.0                         3.0                    15.2   \n",
       "\n",
       "  Bat_Second_20_ov_score  Bat_Second_20_ov_wkts_lost Match_Time  \\\n",
       "0                    NaN                         NaN    Evening   \n",
       "1                  207.0                         4.0  Afternoon   \n",
       "\n",
       "   Duckworth Lewis Used  \n",
       "0                   NaN  \n",
       "1                   NaN  \n",
       "\n",
       "[2 rows x 43 columns]"
      ]
     },
     "execution_count": 3,
     "metadata": {},
     "output_type": "execute_result"
    }
   ],
   "source": [
    "df.head(2)"
   ]
  },
  {
   "cell_type": "code",
   "execution_count": 4,
   "id": "667a3481",
   "metadata": {},
   "outputs": [
    {
     "data": {
      "text/plain": [
       "Index(['Match_Number', 'Match', 'Date', 'Year', 'Venue', 'Team_Batting_First',\n",
       "       'Team_Batting_Second', 'Bat_First_Runs_Scored',\n",
       "       'Bat_First_Wickets_Lost', 'Bat_First_Overs_Consumed',\n",
       "       'Bat_First_Overs_Allocated', 'Bat_Second_Runs_Scored',\n",
       "       'Bat_Second_Wickets_Lost', 'Bat_Second_Overs_Consumed',\n",
       "       'Bat_Second_Overs_Allocated', 'Winner', 'Winning_Team',\n",
       "       'Winning_Margin', 'Win_Type', 'Bat_First_Run_Rate',\n",
       "       'Bat_Second_Run_Rate', 'Balls_Remaining', 'Bat_First_5_ov_score',\n",
       "       'Bat_First_5_ov_wkts_lost', 'Bat_First_10_ov_score',\n",
       "       'Bat_First_10_ov_wkts_lost', 'Bat_First_15_ov_score',\n",
       "       'Bat_First_15_ov_wkts_lost', 'Bat_First_20_ov_score',\n",
       "       'Bat_First_20_ov_wkts_lost', 'Bat_Second_5_ov_score',\n",
       "       'Bat_Second_5_ov_wkts_lost', 'Bat_Second_5_ov_Req_RR',\n",
       "       'Bat_Second_10_ov_score', 'Bat_Second_10_ov_wkts_lost',\n",
       "       'Bat_Second_10_ov_Req_RR', 'Bat_Second_15_ov_score',\n",
       "       'Bat_Second_15_ov_wkts_lost', 'Bat_Second_15_ov_Req_RR',\n",
       "       'Bat_Second_20_ov_score', 'Bat_Second_20_ov_wkts_lost', 'Match_Time',\n",
       "       'Duckworth Lewis Used'],\n",
       "      dtype='object')"
      ]
     },
     "execution_count": 4,
     "metadata": {},
     "output_type": "execute_result"
    }
   ],
   "source": [
    "df.columns"
   ]
  },
  {
   "cell_type": "markdown",
   "id": "a5bd2e3b",
   "metadata": {},
   "source": [
    "#### Create DataFrame"
   ]
  },
  {
   "cell_type": "code",
   "execution_count": 5,
   "id": "189cc50d",
   "metadata": {},
   "outputs": [],
   "source": [
    "df1 = pd.DataFrame(columns=[\n",
    "                      'Total Number of Matches',\n",
    "                      'Number of matches Team Batting First Won',\n",
    "                      'Number of matches team Chasing Won',\n",
    "                      'Number of times Match Tied', ],\n",
    "             index=[2008, 2009, 2010, 2011, 2012, 2013, 2014, 2015])"
   ]
  },
  {
   "cell_type": "markdown",
   "id": "e704e613",
   "metadata": {},
   "source": [
    "##### add Total Number of Matches in column"
   ]
  },
  {
   "cell_type": "code",
   "execution_count": 6,
   "id": "a45a2cd1",
   "metadata": {},
   "outputs": [],
   "source": [
    "df1['Total Number of Matches'] = df['Year'].value_counts()\n"
   ]
  },
  {
   "cell_type": "code",
   "execution_count": 7,
   "id": "460d6689",
   "metadata": {},
   "outputs": [
    {
     "data": {
      "text/html": [
       "<div>\n",
       "<style scoped>\n",
       "    .dataframe tbody tr th:only-of-type {\n",
       "        vertical-align: middle;\n",
       "    }\n",
       "\n",
       "    .dataframe tbody tr th {\n",
       "        vertical-align: top;\n",
       "    }\n",
       "\n",
       "    .dataframe thead th {\n",
       "        text-align: right;\n",
       "    }\n",
       "</style>\n",
       "<table border=\"1\" class=\"dataframe\">\n",
       "  <thead>\n",
       "    <tr style=\"text-align: right;\">\n",
       "      <th></th>\n",
       "      <th>Total Number of Matches</th>\n",
       "      <th>Number of matches Team Batting First Won</th>\n",
       "      <th>Number of matches team Chasing Won</th>\n",
       "      <th>Number of times Match Tied</th>\n",
       "    </tr>\n",
       "  </thead>\n",
       "  <tbody>\n",
       "    <tr>\n",
       "      <th>2008</th>\n",
       "      <td>58</td>\n",
       "      <td>NaN</td>\n",
       "      <td>NaN</td>\n",
       "      <td>NaN</td>\n",
       "    </tr>\n",
       "    <tr>\n",
       "      <th>2009</th>\n",
       "      <td>57</td>\n",
       "      <td>NaN</td>\n",
       "      <td>NaN</td>\n",
       "      <td>NaN</td>\n",
       "    </tr>\n",
       "    <tr>\n",
       "      <th>2010</th>\n",
       "      <td>60</td>\n",
       "      <td>NaN</td>\n",
       "      <td>NaN</td>\n",
       "      <td>NaN</td>\n",
       "    </tr>\n",
       "    <tr>\n",
       "      <th>2011</th>\n",
       "      <td>72</td>\n",
       "      <td>NaN</td>\n",
       "      <td>NaN</td>\n",
       "      <td>NaN</td>\n",
       "    </tr>\n",
       "    <tr>\n",
       "      <th>2012</th>\n",
       "      <td>74</td>\n",
       "      <td>NaN</td>\n",
       "      <td>NaN</td>\n",
       "      <td>NaN</td>\n",
       "    </tr>\n",
       "    <tr>\n",
       "      <th>2013</th>\n",
       "      <td>76</td>\n",
       "      <td>NaN</td>\n",
       "      <td>NaN</td>\n",
       "      <td>NaN</td>\n",
       "    </tr>\n",
       "    <tr>\n",
       "      <th>2014</th>\n",
       "      <td>60</td>\n",
       "      <td>NaN</td>\n",
       "      <td>NaN</td>\n",
       "      <td>NaN</td>\n",
       "    </tr>\n",
       "    <tr>\n",
       "      <th>2015</th>\n",
       "      <td>57</td>\n",
       "      <td>NaN</td>\n",
       "      <td>NaN</td>\n",
       "      <td>NaN</td>\n",
       "    </tr>\n",
       "  </tbody>\n",
       "</table>\n",
       "</div>"
      ],
      "text/plain": [
       "      Total Number of Matches Number of matches Team Batting First Won  \\\n",
       "2008                       58                                      NaN   \n",
       "2009                       57                                      NaN   \n",
       "2010                       60                                      NaN   \n",
       "2011                       72                                      NaN   \n",
       "2012                       74                                      NaN   \n",
       "2013                       76                                      NaN   \n",
       "2014                       60                                      NaN   \n",
       "2015                       57                                      NaN   \n",
       "\n",
       "     Number of matches team Chasing Won Number of times Match Tied  \n",
       "2008                                NaN                        NaN  \n",
       "2009                                NaN                        NaN  \n",
       "2010                                NaN                        NaN  \n",
       "2011                                NaN                        NaN  \n",
       "2012                                NaN                        NaN  \n",
       "2013                                NaN                        NaN  \n",
       "2014                                NaN                        NaN  \n",
       "2015                                NaN                        NaN  "
      ]
     },
     "execution_count": 7,
     "metadata": {},
     "output_type": "execute_result"
    }
   ],
   "source": [
    "df1"
   ]
  },
  {
   "cell_type": "code",
   "execution_count": 8,
   "id": "df93610c",
   "metadata": {},
   "outputs": [],
   "source": [
    "yearWin =  df[['Year','Winning_Team']]"
   ]
  },
  {
   "cell_type": "code",
   "execution_count": 14,
   "id": "b837ae4c",
   "metadata": {},
   "outputs": [
    {
     "data": {
      "text/plain": [
       "Year  Winning_Team\n",
       "2008  Chasing         36\n",
       "      FirstBatting    22\n",
       "2009  Chasing         30\n",
       "      FirstBatting    26\n",
       "      Match Tied       1\n",
       "2010  FirstBatting    31\n",
       "      Chasing         28\n",
       "      Match Tied       1\n",
       "2011  Chasing         40\n",
       "      FirstBatting    32\n",
       "2012  Chasing         40\n",
       "      FirstBatting    34\n",
       "2013  Chasing         37\n",
       "      FirstBatting    37\n",
       "      Match Tied       2\n",
       "2014  Chasing         37\n",
       "      FirstBatting    22\n",
       "      Match Tied       1\n",
       "2015  FirstBatting    32\n",
       "      Chasing         24\n",
       "      Match Tied       1\n",
       "Name: Winning_Team, dtype: int64"
      ]
     },
     "execution_count": 14,
     "metadata": {},
     "output_type": "execute_result"
    }
   ],
   "source": [
    "yearWin.groupby('Year')['Winning_Team'].value_counts()"
   ]
  },
  {
   "cell_type": "code",
   "execution_count": 10,
   "id": "be676205",
   "metadata": {},
   "outputs": [],
   "source": [
    "# df1['Number of matches Team Batting First Won\t'] = \n",
    "number_of_matches_Team_Batting_First_Won\t= yearWin.groupby('Year')['Winning_Team'].value_counts().filter(regex=\"FirstBatting\")\n",
    "number_of_matches_team_Chasing_Won = yearWin.groupby('Year')['Winning_Team'].value_counts().filter(regex=\"Chasing\")\n",
    "number_of_times_Match_Tied = yearWin.groupby('Year')['Winning_Team'].value_counts().filter(regex=\"Match Tied\")"
   ]
  },
  {
   "cell_type": "code",
   "execution_count": 11,
   "id": "4478b95a",
   "metadata": {},
   "outputs": [
    {
     "data": {
      "text/plain": [
       "Year  Winning_Team\n",
       "2008  FirstBatting    22\n",
       "2009  FirstBatting    26\n",
       "2010  FirstBatting    31\n",
       "2011  FirstBatting    32\n",
       "2012  FirstBatting    34\n",
       "2013  FirstBatting    37\n",
       "2014  FirstBatting    22\n",
       "2015  FirstBatting    32\n",
       "Name: Winning_Team, dtype: int64"
      ]
     },
     "execution_count": 11,
     "metadata": {},
     "output_type": "execute_result"
    }
   ],
   "source": [
    "number_of_matches_Team_Batting_First_Won"
   ]
  },
  {
   "cell_type": "code",
   "execution_count": 12,
   "id": "f2cb76f2",
   "metadata": {},
   "outputs": [
    {
     "data": {
      "text/plain": [
       "Year  Winning_Team\n",
       "2008  Chasing         36\n",
       "2009  Chasing         30\n",
       "2010  Chasing         28\n",
       "2011  Chasing         40\n",
       "2012  Chasing         40\n",
       "2013  Chasing         37\n",
       "2014  Chasing         37\n",
       "2015  Chasing         24\n",
       "Name: Winning_Team, dtype: int64"
      ]
     },
     "execution_count": 12,
     "metadata": {},
     "output_type": "execute_result"
    }
   ],
   "source": [
    "number_of_matches_team_Chasing_Won"
   ]
  },
  {
   "cell_type": "code",
   "execution_count": 13,
   "id": "88710e05",
   "metadata": {},
   "outputs": [
    {
     "data": {
      "text/plain": [
       "Year  Winning_Team\n",
       "2009  Match Tied      1\n",
       "2010  Match Tied      1\n",
       "2013  Match Tied      2\n",
       "2014  Match Tied      1\n",
       "2015  Match Tied      1\n",
       "Name: Winning_Team, dtype: int64"
      ]
     },
     "execution_count": 13,
     "metadata": {},
     "output_type": "execute_result"
    }
   ],
   "source": [
    "number_of_times_Match_Tied"
   ]
  },
  {
   "cell_type": "code",
   "execution_count": null,
   "id": "38fa738d",
   "metadata": {},
   "outputs": [],
   "source": []
  }
 ],
 "metadata": {
  "interpreter": {
   "hash": "38cca0c38332a56087b24af0bc80247f4fced29cb4f7f437d91dc159adec9c4e"
  },
  "kernelspec": {
   "display_name": "Python 3.9.7 64-bit ('base': conda)",
   "language": "python",
   "name": "python3"
  },
  "language_info": {
   "codemirror_mode": {
    "name": "ipython",
    "version": 3
   },
   "file_extension": ".py",
   "mimetype": "text/x-python",
   "name": "python",
   "nbconvert_exporter": "python",
   "pygments_lexer": "ipython3",
   "version": "3.9.7"
  }
 },
 "nbformat": 4,
 "nbformat_minor": 5
}
