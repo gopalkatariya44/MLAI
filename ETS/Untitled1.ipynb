{
 "cells": [
  {
   "cell_type": "code",
   "execution_count": 1,
   "id": "cee5447e",
   "metadata": {},
   "outputs": [],
   "source": [
    "# ls = [1, '2', 3, 'd',\n",
    "#       ['a', 'b', 'c'], \n",
    "#       14, 4, 5, 6, \n",
    "#       ['d', 'e', 'f'],\n",
    "#       7, 'g', 8, 'h', \n",
    "#       [9, 10, 'i', 'j'],\n",
    "#       11,'aansh'\n",
    "#      ]"
   ]
  },
  {
   "cell_type": "markdown",
   "id": "ed382dc3",
   "metadata": {},
   "source": [
    "for i in ls:\n",
    "    if int(i) == i:\n",
    "        print(i)\n",
    "    if str(i) == i:\n",
    "        print(\"  \",i)\n",
    "    if list(i) == i:\n",
    "        print(i)"
   ]
  },
  {
   "cell_type": "code",
   "execution_count": 2,
   "id": "27971855",
   "metadata": {},
   "outputs": [],
   "source": [
    "stud = {1:\"hello\"}"
   ]
  },
  {
   "cell_type": "code",
   "execution_count": 3,
   "id": "08e79f2b",
   "metadata": {},
   "outputs": [],
   "source": [
    "# stud = input('enter key: ')"
   ]
  },
  {
   "cell_type": "code",
   "execution_count": 4,
   "id": "da410ae6",
   "metadata": {},
   "outputs": [
    {
     "data": {
      "text/plain": [
       "{1: 'hello'}"
      ]
     },
     "execution_count": 4,
     "metadata": {},
     "output_type": "execute_result"
    }
   ],
   "source": [
    "stud"
   ]
  },
  {
   "cell_type": "code",
   "execution_count": 5,
   "id": "9b874f9f",
   "metadata": {},
   "outputs": [],
   "source": [
    "# # n = int(input('Enter the number:'))\n",
    "# k = 2 * n - 2\n",
    "# for i in range(0, n):\n",
    "#     for j in range(0, k):\n",
    "#         print(end= ' ')\n",
    "#     k = k - 1\n",
    "#     for j in range(0, i + 1):\n",
    "#         print('* ', end= '') # No space \n",
    "#     print('') # No space\n",
    "    \n",
    "# k = n - 2\n",
    "# for i in range(n, -1, -1):\n",
    "#     for j in range(k, 0, -1):\n",
    "#         print(end= ' ')\n",
    "#     k = k + 1\n",
    "#     for j in range(0, i + 1):\n",
    "#         print('* ', end= '') # No space\n",
    "#     print('') # No space"
   ]
  },
  {
   "cell_type": "code",
   "execution_count": null,
   "id": "676da11e",
   "metadata": {},
   "outputs": [],
   "source": [
    "n = int(input(\"enter a n value:\"))\n",
    "student = {}\n",
    "\n",
    "for i in range(n):\n",
    "    rollno = (input(\"enter roll : - \"))\n",
    "    keys = input(print(\"key: \",end=' '))#keys as strings\n",
    "    values = input(\"value : \") #values as string\n",
    "    student[rollno][keys] = values\n",
    "print(student)"
   ]
  },
  {
   "cell_type": "code",
   "execution_count": null,
   "id": "756e4303",
   "metadata": {},
   "outputs": [],
   "source": [
    "n = int(input(\"entere n of stu: - \"))\n",
    "d = {}\n",
    "\n",
    "\n",
    "#     size = int(input(\"Enter the size of nested dictionary: \"))\n",
    "for i in range(n):\n",
    "\n",
    "    dict_name = input(\"Enter the stu id: \")\n",
    "    d[dict_name] = {}\n",
    "    Name = input(\"Enter name: \")\n",
    "    Age = input(\"Enter roll: \")\n",
    "    d[dict_name][\"Name\"] = Name\n",
    "    d[dict_name][\"roll\"] = Age    \n",
    "print(d)"
   ]
  },
  {
   "cell_type": "code",
   "execution_count": null,
   "id": "560d80ae",
   "metadata": {},
   "outputs": [],
   "source": []
  },
  {
   "cell_type": "markdown",
   "id": "4aa04472",
   "metadata": {},
   "source": []
  }
 ],
 "metadata": {
  "kernelspec": {
   "display_name": "Python 3.9.7 64-bit ('base': conda)",
   "language": "python",
   "name": "python397jvsc74a57bd038cca0c38332a56087b24af0bc80247f4fced29cb4f7f437d91dc159adec9c4e"
  },
  "language_info": {
   "codemirror_mode": {
    "name": "ipython",
    "version": 3
   },
   "file_extension": ".py",
   "mimetype": "text/x-python",
   "name": "python",
   "nbconvert_exporter": "python",
   "pygments_lexer": "ipython3",
   "version": "3.9.7"
  }
 },
 "nbformat": 4,
 "nbformat_minor": 5
}
