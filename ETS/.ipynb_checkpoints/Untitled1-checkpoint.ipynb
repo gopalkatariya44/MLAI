{
 "cells": [
  {
   "cell_type": "code",
   "execution_count": 1,
   "id": "cee5447e",
   "metadata": {},
   "outputs": [],
   "source": [
    "ls = [1, 3, '2',\n",
    "      ['1', '2', '3'], \n",
    "      14, 4, 5, 6, \n",
    "      ['d', 'e', 'f'],\n",
    "      7, 'g', 8, 'h', \n",
    "      [9, 10, 'i', 'j'],\n",
    "      11,'aansh'\n",
    "     ]"
   ]
  },
  {
   "cell_type": "code",
   "execution_count": 2,
   "id": "ed382dc3",
   "metadata": {},
   "outputs": [
    {
     "name": "stdout",
     "output_type": "stream",
     "text": [
      "1\n",
      "3\n",
      "   2\n"
     ]
    },
    {
     "ename": "TypeError",
     "evalue": "int() argument must be a string, a bytes-like object or a number, not 'list'",
     "output_type": "error",
     "traceback": [
      "\u001b[0;31m---------------------------------------------------------------------------\u001b[0m",
      "\u001b[0;31mTypeError\u001b[0m                                 Traceback (most recent call last)",
      "\u001b[0;32m/var/folders/1r/6kld_9052m7dp39n1x_g2vtm0000gn/T/ipykernel_40137/3279877908.py\u001b[0m in \u001b[0;36m<module>\u001b[0;34m\u001b[0m\n\u001b[1;32m      1\u001b[0m \u001b[0;32mfor\u001b[0m \u001b[0mi\u001b[0m \u001b[0;32min\u001b[0m \u001b[0mls\u001b[0m\u001b[0;34m:\u001b[0m\u001b[0;34m\u001b[0m\u001b[0;34m\u001b[0m\u001b[0m\n\u001b[0;32m----> 2\u001b[0;31m     \u001b[0;32mif\u001b[0m \u001b[0mint\u001b[0m\u001b[0;34m(\u001b[0m\u001b[0mi\u001b[0m\u001b[0;34m)\u001b[0m \u001b[0;34m==\u001b[0m \u001b[0mi\u001b[0m\u001b[0;34m:\u001b[0m\u001b[0;34m\u001b[0m\u001b[0;34m\u001b[0m\u001b[0m\n\u001b[0m\u001b[1;32m      3\u001b[0m         \u001b[0mprint\u001b[0m\u001b[0;34m(\u001b[0m\u001b[0mstr\u001b[0m\u001b[0;34m(\u001b[0m\u001b[0mi\u001b[0m\u001b[0;34m)\u001b[0m\u001b[0;34m)\u001b[0m\u001b[0;34m\u001b[0m\u001b[0;34m\u001b[0m\u001b[0m\n\u001b[1;32m      4\u001b[0m     \u001b[0;32melif\u001b[0m \u001b[0mstr\u001b[0m\u001b[0;34m(\u001b[0m\u001b[0mi\u001b[0m\u001b[0;34m)\u001b[0m \u001b[0;34m==\u001b[0m \u001b[0mi\u001b[0m\u001b[0;34m:\u001b[0m\u001b[0;34m\u001b[0m\u001b[0;34m\u001b[0m\u001b[0m\n\u001b[1;32m      5\u001b[0m         \u001b[0mprint\u001b[0m\u001b[0;34m(\u001b[0m\u001b[0;34m\"  \"\u001b[0m\u001b[0;34m,\u001b[0m\u001b[0mstr\u001b[0m\u001b[0;34m(\u001b[0m\u001b[0mi\u001b[0m\u001b[0;34m)\u001b[0m\u001b[0;34m)\u001b[0m\u001b[0;34m\u001b[0m\u001b[0;34m\u001b[0m\u001b[0m\n",
      "\u001b[0;31mTypeError\u001b[0m: int() argument must be a string, a bytes-like object or a number, not 'list'"
     ]
    }
   ],
   "source": [
    "for i in ls:\n",
    "    if int(i) == i:\n",
    "        print(str(i))\n",
    "    elif str(i) == i:\n",
    "        print(\"  \",str(i))\n",
    "    elif list(i) == i:\n",
    "        for i in ls(i):\n",
    "            if int(i) == i:\n",
    "                print(str(i))\n",
    "            elif str(i) == i:\n",
    "                 print(\"  \", str(i))\n",
    "\n"
   ]
  },
  {
   "cell_type": "code",
   "execution_count": null,
   "id": "27971855",
   "metadata": {},
   "outputs": [],
   "source": [
    "stud = {1:\"hello\"}"
   ]
  },
  {
   "cell_type": "code",
   "execution_count": null,
   "id": "08e79f2b",
   "metadata": {},
   "outputs": [],
   "source": [
    "# stud = input('enter key: ')"
   ]
  },
  {
   "cell_type": "code",
   "execution_count": null,
   "id": "da410ae6",
   "metadata": {},
   "outputs": [],
   "source": [
    "stud"
   ]
  },
  {
   "cell_type": "code",
   "execution_count": null,
   "id": "9b874f9f",
   "metadata": {},
   "outputs": [],
   "source": [
    "# # n = int(input('Enter the number:'))\n",
    "# k = 2 * n - 2\n",
    "# for i in range(0, n):\n",
    "#     for j in range(0, k):\n",
    "#         print(end= ' ')\n",
    "#     k = k - 1\n",
    "#     for j in range(0, i + 1):\n",
    "#         print('* ', end= '') # No space \n",
    "#     print('') # No space\n",
    "    \n",
    "# k = n - 2\n",
    "# for i in range(n, -1, -1):\n",
    "#     for j in range(k, 0, -1):\n",
    "#         print(end= ' ')\n",
    "#     k = k + 1\n",
    "#     for j in range(0, i + 1):\n",
    "#         print('* ', end= '') # No space\n",
    "#     print('') # No space"
   ]
  },
  {
   "cell_type": "code",
   "execution_count": null,
   "id": "676da11e",
   "metadata": {},
   "outputs": [],
   "source": [
    "n = int(input(\"enter a n value:\"))\n",
    "student = {}\n",
    "\n",
    "for i in range(n):\n",
    "    rollno = (input(\"enter roll : - \"))\n",
    "    keys = input(print(\"key: \",end=' '))#keys as strings\n",
    "    values = input(\"value : \") #values as string\n",
    "    student[rollno][keys] = values\n",
    "print(student)"
   ]
  },
  {
   "cell_type": "code",
   "execution_count": null,
   "id": "756e4303",
   "metadata": {},
   "outputs": [],
   "source": [
    "n = int(input(\"entere n of stu: - \"))\n",
    "d = {}\n",
    "\n",
    "\n",
    "#     size = int(input(\"Enter the size of nested dictionary: \"))\n",
    "for i in range(n):\n",
    "\n",
    "    dict_name = input(\"Enter the stu id: \")\n",
    "    d[dict_name] = {}\n",
    "    Name = input(\"Enter name: \")\n",
    "    Age = input(\"Enter roll: \")\n",
    "    d[dict_name][\"Name\"] = Name\n",
    "    d[dict_name][\"roll\"] = Age\n",
    "print(d)"
   ]
  },
  {
   "cell_type": "markdown",
   "id": "560d80ae",
   "metadata": {},
   "source": [
    "### 8 Feb"
   ]
  },
  {
   "cell_type": "code",
   "execution_count": null,
   "id": "4aa04472",
   "metadata": {},
   "outputs": [],
   "source": [
    "ls = ['hey',1,2,3,'no','yes']"
   ]
  },
  {
   "cell_type": "code",
   "execution_count": null,
   "id": "ec691c1a",
   "metadata": {},
   "outputs": [],
   "source": [
    "ls"
   ]
  },
  {
   "cell_type": "code",
   "execution_count": null,
   "id": "ffcd16da",
   "metadata": {},
   "outputs": [],
   "source": [
    "ls.pop()"
   ]
  },
  {
   "cell_type": "code",
   "execution_count": null,
   "id": "487402d7",
   "metadata": {},
   "outputs": [],
   "source": [
    "ls"
   ]
  },
  {
   "cell_type": "code",
   "execution_count": null,
   "id": "6e898b48",
   "metadata": {},
   "outputs": [],
   "source": [
    "ls.reverse()"
   ]
  },
  {
   "cell_type": "code",
   "execution_count": null,
   "id": "ed819d1b",
   "metadata": {},
   "outputs": [],
   "source": [
    "ls"
   ]
  },
  {
   "cell_type": "code",
   "execution_count": null,
   "id": "b570dcbe",
   "metadata": {},
   "outputs": [],
   "source": [
    "ls.sort()"
   ]
  },
  {
   "cell_type": "code",
   "execution_count": null,
   "id": "77419f06",
   "metadata": {},
   "outputs": [],
   "source": [
    "dict = {1:\"hey\"}"
   ]
  },
  {
   "cell_type": "code",
   "execution_count": null,
   "id": "8d8afa50",
   "metadata": {},
   "outputs": [],
   "source": [
    "a=str(dict)"
   ]
  },
  {
   "cell_type": "code",
   "execution_count": null,
   "id": "9dba60e7",
   "metadata": {},
   "outputs": [],
   "source": [
    "a[1]"
   ]
  },
  {
   "cell_type": "code",
   "execution_count": null,
   "id": "ccadd989",
   "metadata": {},
   "outputs": [],
   "source": [
    "dict.clear()"
   ]
  },
  {
   "cell_type": "code",
   "execution_count": null,
   "id": "f9e2e6eb",
   "metadata": {},
   "outputs": [],
   "source": [
    "dict"
   ]
  },
  {
   "cell_type": "code",
   "execution_count": null,
   "id": "a8d8328b",
   "metadata": {},
   "outputs": [],
   "source": [
    "b =dict.copy()"
   ]
  },
  {
   "cell_type": "code",
   "execution_count": null,
   "id": "a0ea96c8",
   "metadata": {},
   "outputs": [],
   "source": [
    "b"
   ]
  },
  {
   "cell_type": "code",
   "execution_count": null,
   "id": "9f8067ee",
   "metadata": {},
   "outputs": [],
   "source": [
    "a = b.items()"
   ]
  },
  {
   "cell_type": "code",
   "execution_count": null,
   "id": "39282952",
   "metadata": {},
   "outputs": [],
   "source": [
    "a"
   ]
  },
  {
   "cell_type": "code",
   "execution_count": null,
   "id": "3c326972",
   "metadata": {},
   "outputs": [],
   "source": [
    "ls_str = 22,22,22,22,'hey'"
   ]
  },
  {
   "cell_type": "code",
   "execution_count": null,
   "id": "e2b9891d",
   "metadata": {},
   "outputs": [],
   "source": [
    "type(ls_str)"
   ]
  },
  {
   "cell_type": "code",
   "execution_count": null,
   "id": "24bda530",
   "metadata": {},
   "outputs": [],
   "source": [
    "ls = list(ls_str)"
   ]
  },
  {
   "cell_type": "code",
   "execution_count": null,
   "id": "03f17a73",
   "metadata": {},
   "outputs": [],
   "source": [
    "for i in ls:\n",
    "    \n",
    "  if str(i) == i:\n",
    "    continue\n",
    "  ls.append(ls[i])"
   ]
  },
  {
   "cell_type": "code",
   "execution_count": null,
   "id": "74965128",
   "metadata": {},
   "outputs": [],
   "source": [
    "ls"
   ]
  },
  {
   "cell_type": "code",
   "execution_count": 23,
   "id": "293f798c",
   "metadata": {},
   "outputs": [
    {
     "name": "stdout",
     "output_type": "stream",
     "text": [
      "enter no. of element in int: 6\n"
     ]
    }
   ],
   "source": [
    "list1 = []\n",
    "list2 = []\n",
    "number = int(input('enter no. of element in int: '))"
   ]
  },
  {
   "cell_type": "code",
   "execution_count": 24,
   "id": "683a0013",
   "metadata": {},
   "outputs": [
    {
     "name": "stdout",
     "output_type": "stream",
     "text": [
      "enter element: 2\n",
      "enter element: 5\n",
      "enter element: 6\n",
      "enter element: 8\n",
      "enter element: 9\n",
      "enter element: 1\n"
     ]
    }
   ],
   "source": [
    "for i in range(number):\n",
    "    element =  int(input('enter element: '))\n",
    "    list1.append(element)"
   ]
  },
  {
   "cell_type": "code",
   "execution_count": 25,
   "id": "ff0560eb",
   "metadata": {},
   "outputs": [
    {
     "data": {
      "text/plain": [
       "[2, 5, 6, 8, 9, 1]"
      ]
     },
     "execution_count": 25,
     "metadata": {},
     "output_type": "execute_result"
    }
   ],
   "source": [
    "list1"
   ]
  },
  {
   "cell_type": "code",
   "execution_count": 26,
   "id": "5d515ee7",
   "metadata": {},
   "outputs": [],
   "source": [
    "for i in range(number):\n",
    "    if(list1[i] < list1[i+1]):\n",
    "        list2.append(list1[i])\n",
    "    else:\n",
    "        list2.append(list1[i])\n",
    "        break"
   ]
  },
  {
   "cell_type": "code",
   "execution_count": 38,
   "id": "5b18ad76",
   "metadata": {},
   "outputs": [
    {
     "data": {
      "text/plain": [
       "[2, 5, 6, 8, 9]"
      ]
     },
     "execution_count": 38,
     "metadata": {},
     "output_type": "execute_result"
    }
   ],
   "source": [
    "list2"
   ]
  },
  {
   "cell_type": "code",
   "execution_count": 2,
   "id": "57a08e09",
   "metadata": {
    "scrolled": true
   },
   "outputs": [
    {
     "name": "stdout",
     "output_type": "stream",
     "text": [
      "Length of lis is 6\n"
     ]
    }
   ],
   "source": [
    "def lis(arr):\n",
    "    n = len(arr)\n",
    "    lis = [1]*n\n",
    "    for i in range (1, n):\n",
    "        for j in range(0, i):\n",
    "            if arr[i] > arr[j] and lis[i]< lis[j] + 1 :\n",
    "                lis[i] = lis[j]+1\n",
    "\n",
    "    maximum = 0\n",
    "    for i in range(n):\n",
    "        maximum = max(maximum, lis[i])\n",
    "\n",
    "    return maximum\n",
    "\n",
    "arr = [1,2,3,1,6,9,14]\n",
    "print (\"Length of lis is\", lis(arr))"
   ]
  },
  {
   "cell_type": "code",
   "execution_count": 1,
   "id": "720f8b8f",
   "metadata": {},
   "outputs": [
    {
     "name": "stdout",
     "output_type": "stream",
     "text": [
      "[0, 0, 0, 0, 0, 0, 0]\n",
      "6\n"
     ]
    }
   ],
   "source": [
    "class Solution(object):\n",
    "    def lengthOfLIS(self, nums):\n",
    "        tails =[0 for i in range(len(nums))]\n",
    "        size = 0\n",
    "        for x in nums:\n",
    "            i=0\n",
    "            j=size\n",
    "            while i!=j:\n",
    "                mid = i + (j-i)//2\n",
    "                if tails[mid]< x:\n",
    "                    i = mid+1\n",
    "                else:\n",
    "                    j = mid\n",
    "            tails[i] = x\n",
    "            size = max(i+1,size)\n",
    "        return size\n",
    "ob1 = Solution()\n",
    "print(ob1.lengthOfLIS([1,2,3,2,6,9,14]))"
   ]
  },
  {
   "cell_type": "code",
   "execution_count": null,
   "id": "7a712afd",
   "metadata": {},
   "outputs": [],
   "source": []
  }
 ],
 "metadata": {
  "interpreter": {
   "hash": "38cca0c38332a56087b24af0bc80247f4fced29cb4f7f437d91dc159adec9c4e"
  },
  "kernelspec": {
   "display_name": "Python 3 (ipykernel)",
   "language": "python",
   "name": "python3"
  },
  "language_info": {
   "codemirror_mode": {
    "name": "ipython",
    "version": 3
   },
   "file_extension": ".py",
   "mimetype": "text/x-python",
   "name": "python",
   "nbconvert_exporter": "python",
   "pygments_lexer": "ipython3",
   "version": "3.9.7"
  }
 },
 "nbformat": 4,
 "nbformat_minor": 5
}
