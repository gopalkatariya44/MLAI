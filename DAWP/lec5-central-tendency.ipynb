{
 "cells": [
  {
   "cell_type": "code",
   "execution_count": 47,
   "id": "0ab121e3",
   "metadata": {},
   "outputs": [],
   "source": [
    "import pandas as pd\n",
    "import numpy as np\n",
    "# import scipy\n",
    "from scipy import stats\n",
    "from scipy.stats import skew\n",
    "from matplotlib import pyplot as plt"
   ]
  },
  {
   "cell_type": "code",
   "execution_count": 48,
   "id": "89077f36",
   "metadata": {},
   "outputs": [],
   "source": [
    "path1 = 'ibm-marks.xlsx'\n",
    "path2 = 'ibm-marks.csv'"
   ]
  },
  {
   "cell_type": "code",
   "execution_count": 49,
   "id": "8596c190",
   "metadata": {},
   "outputs": [],
   "source": [
    "df1 = pd.read_excel(path1)\n",
    "df2 = pd.read_csv(path2)"
   ]
  },
  {
   "cell_type": "code",
   "execution_count": 50,
   "id": "0ce390a2",
   "metadata": {},
   "outputs": [],
   "source": [
    "# df1['Total'] = df1['MTE']+df1[\"Mini pro\"]"
   ]
  },
  {
   "cell_type": "code",
   "execution_count": 51,
   "id": "3c860481",
   "metadata": {},
   "outputs": [],
   "source": [
    "# df1['Total.1'] = df1['Total']+df1[\"ETE\"]"
   ]
  },
  {
   "cell_type": "code",
   "execution_count": 52,
   "id": "e31db303",
   "metadata": {},
   "outputs": [
    {
     "data": {
      "text/html": [
       "<div>\n",
       "<style scoped>\n",
       "    .dataframe tbody tr th:only-of-type {\n",
       "        vertical-align: middle;\n",
       "    }\n",
       "\n",
       "    .dataframe tbody tr th {\n",
       "        vertical-align: top;\n",
       "    }\n",
       "\n",
       "    .dataframe thead th {\n",
       "        text-align: right;\n",
       "    }\n",
       "</style>\n",
       "<table border=\"1\" class=\"dataframe\">\n",
       "  <thead>\n",
       "    <tr style=\"text-align: right;\">\n",
       "      <th></th>\n",
       "      <th>MTE</th>\n",
       "      <th>Mini pro</th>\n",
       "      <th>Total</th>\n",
       "      <th>ETE</th>\n",
       "      <th>Total(100)</th>\n",
       "    </tr>\n",
       "  </thead>\n",
       "  <tbody>\n",
       "    <tr>\n",
       "      <th>0</th>\n",
       "      <td>5</td>\n",
       "      <td>10</td>\n",
       "      <td>15</td>\n",
       "      <td>12</td>\n",
       "      <td>27</td>\n",
       "    </tr>\n",
       "    <tr>\n",
       "      <th>1</th>\n",
       "      <td>11</td>\n",
       "      <td>20</td>\n",
       "      <td>31</td>\n",
       "      <td>14</td>\n",
       "      <td>45</td>\n",
       "    </tr>\n",
       "    <tr>\n",
       "      <th>2</th>\n",
       "      <td>8</td>\n",
       "      <td>20</td>\n",
       "      <td>28</td>\n",
       "      <td>13</td>\n",
       "      <td>41</td>\n",
       "    </tr>\n",
       "    <tr>\n",
       "      <th>3</th>\n",
       "      <td>6</td>\n",
       "      <td>10</td>\n",
       "      <td>16</td>\n",
       "      <td>26</td>\n",
       "      <td>42</td>\n",
       "    </tr>\n",
       "    <tr>\n",
       "      <th>4</th>\n",
       "      <td>11</td>\n",
       "      <td>12</td>\n",
       "      <td>23</td>\n",
       "      <td>13</td>\n",
       "      <td>36</td>\n",
       "    </tr>\n",
       "    <tr>\n",
       "      <th>5</th>\n",
       "      <td>11</td>\n",
       "      <td>15</td>\n",
       "      <td>26</td>\n",
       "      <td>24</td>\n",
       "      <td>50</td>\n",
       "    </tr>\n",
       "    <tr>\n",
       "      <th>6</th>\n",
       "      <td>9</td>\n",
       "      <td>13</td>\n",
       "      <td>22</td>\n",
       "      <td>18</td>\n",
       "      <td>40</td>\n",
       "    </tr>\n",
       "    <tr>\n",
       "      <th>7</th>\n",
       "      <td>10</td>\n",
       "      <td>12</td>\n",
       "      <td>22</td>\n",
       "      <td>14</td>\n",
       "      <td>36</td>\n",
       "    </tr>\n",
       "    <tr>\n",
       "      <th>8</th>\n",
       "      <td>4</td>\n",
       "      <td>23</td>\n",
       "      <td>27</td>\n",
       "      <td>28</td>\n",
       "      <td>55</td>\n",
       "    </tr>\n",
       "  </tbody>\n",
       "</table>\n",
       "</div>"
      ],
      "text/plain": [
       "   MTE  Mini pro  Total  ETE  Total(100)\n",
       "0    5        10     15   12          27\n",
       "1   11        20     31   14          45\n",
       "2    8        20     28   13          41\n",
       "3    6        10     16   26          42\n",
       "4   11        12     23   13          36\n",
       "5   11        15     26   24          50\n",
       "6    9        13     22   18          40\n",
       "7   10        12     22   14          36\n",
       "8    4        23     27   28          55"
      ]
     },
     "execution_count": 52,
     "metadata": {},
     "output_type": "execute_result"
    }
   ],
   "source": [
    "df2"
   ]
  },
  {
   "cell_type": "code",
   "execution_count": 64,
   "id": "65c45c24",
   "metadata": {},
   "outputs": [],
   "source": [
    "total100 =  df2['Total(100)']"
   ]
  },
  {
   "cell_type": "code",
   "execution_count": 54,
   "id": "b1b5f082",
   "metadata": {},
   "outputs": [
    {
     "data": {
      "text/plain": [
       "41.333333333333336"
      ]
     },
     "execution_count": 54,
     "metadata": {},
     "output_type": "execute_result"
    }
   ],
   "source": [
    "np.mean(total100)"
   ]
  },
  {
   "cell_type": "code",
   "execution_count": 55,
   "id": "e22e7ccc",
   "metadata": {},
   "outputs": [
    {
     "data": {
      "text/plain": [
       "41.0"
      ]
     },
     "execution_count": 55,
     "metadata": {},
     "output_type": "execute_result"
    }
   ],
   "source": [
    "np.median(total100)"
   ]
  },
  {
   "cell_type": "code",
   "execution_count": 56,
   "id": "b5e5b6b5",
   "metadata": {},
   "outputs": [
    {
     "data": {
      "text/plain": [
       "ModeResult(mode=array([36]), count=array([2]))"
      ]
     },
     "execution_count": 56,
     "metadata": {},
     "output_type": "execute_result"
    }
   ],
   "source": [
    "stats.mode(total100)"
   ]
  },
  {
   "cell_type": "markdown",
   "id": "c291c1c5",
   "metadata": {},
   "source": [
    "### percentile"
   ]
  },
  {
   "cell_type": "code",
   "execution_count": 57,
   "id": "7fb6e753",
   "metadata": {},
   "outputs": [],
   "source": [
    "arr = np.array([1,2,3,4,5,6,7,8,9])"
   ]
  },
  {
   "cell_type": "code",
   "execution_count": 58,
   "id": "5904a850",
   "metadata": {},
   "outputs": [
    {
     "data": {
      "text/plain": [
       "5.0"
      ]
     },
     "execution_count": 58,
     "metadata": {},
     "output_type": "execute_result"
    }
   ],
   "source": [
    "np.percentile(arr,50)"
   ]
  },
  {
   "cell_type": "code",
   "execution_count": 59,
   "id": "d0da3d24",
   "metadata": {},
   "outputs": [
    {
     "data": {
      "text/plain": [
       "(1, 9)"
      ]
     },
     "execution_count": 59,
     "metadata": {},
     "output_type": "execute_result"
    }
   ],
   "source": [
    "min(arr),max(arr)"
   ]
  },
  {
   "cell_type": "code",
   "execution_count": 60,
   "id": "e1a3f16b",
   "metadata": {
    "scrolled": true
   },
   "outputs": [
    {
     "name": "stdout",
     "output_type": "stream",
     "text": [
      "   \n",
      "  * \n",
      " * * \n",
      "* * * \n",
      "\n",
      "* * * \n",
      " * * \n",
      "  * \n"
     ]
    }
   ],
   "source": [
    "n=4\n",
    "for i in range(n,0,-1):\n",
    "    for j in range(i):\n",
    "        if(i>j+1):\n",
    "            print(' ',end='')\n",
    "        else:\n",
    "            for j in range(0,n-i):\n",
    "                print(\"* \",end='')\n",
    "    print('')\n",
    "for i in range(0,n):\n",
    "    for j in range(i):\n",
    "        if(i>j+1):\n",
    "            print(' ',end='')\n",
    "        else:\n",
    "            for j in range(n-i,0,-1):\n",
    "                print(\"* \",end='')\n",
    "    print('')"
   ]
  },
  {
   "cell_type": "code",
   "execution_count": 61,
   "id": "14272867",
   "metadata": {},
   "outputs": [
    {
     "data": {
      "text/plain": [
       "0.0006375281228314819"
      ]
     },
     "execution_count": 61,
     "metadata": {},
     "output_type": "execute_result"
    }
   ],
   "source": [
    "skew(total100)"
   ]
  },
  {
   "cell_type": "code",
   "execution_count": 65,
   "id": "d9e26e5b",
   "metadata": {},
   "outputs": [
    {
     "data": {
      "text/plain": [
       "{'whiskers': [<matplotlib.lines.Line2D at 0x7fcdf17abca0>,\n",
       "  <matplotlib.lines.Line2D at 0x7fcdd21d2070>],\n",
       " 'caps': [<matplotlib.lines.Line2D at 0x7fcdd21d2430>,\n",
       "  <matplotlib.lines.Line2D at 0x7fcdd21d27c0>],\n",
       " 'boxes': [<matplotlib.lines.Line2D at 0x7fcdf17ab910>],\n",
       " 'medians': [<matplotlib.lines.Line2D at 0x7fcdd21d2b50>],\n",
       " 'fliers': [<matplotlib.lines.Line2D at 0x7fcdd21d2ee0>],\n",
       " 'means': []}"
      ]
     },
     "execution_count": 65,
     "metadata": {},
     "output_type": "execute_result"
    },
    {
     "data": {
      "image/png": "[encoded data removed]",
      "text/plain": [
       "<Figure size 432x288 with 1 Axes>"
      ]
     },
     "metadata": {
      "needs_background": "light"
     },
     "output_type": "display_data"
    }
   ],
   "source": [
    "plt.boxplot(total100,sym='*')"
   ]
  },
  {
   "cell_type": "code",
   "execution_count": null,
   "id": "7e46539e",
   "metadata": {},
   "outputs": [],
   "source": []
  }
 ],
 "metadata": {
  "interpreter": {
   "hash": "38cca0c38332a56087b24af0bc80247f4fced29cb4f7f437d91dc159adec9c4e"
  },
  "kernelspec": {
   "display_name": "Python 3.9.7 64-bit ('base': conda)",
   "language": "python",
   "name": "python3"
  },
  "language_info": {
   "codemirror_mode": {
    "name": "ipython",
    "version": 3
   },
   "file_extension": ".py",
   "mimetype": "text/x-python",
   "name": "python",
   "nbconvert_exporter": "python",
   "pygments_lexer": "ipython3",
   "version": "3.9.7"
  }
 },
 "nbformat": 4,
 "nbformat_minor": 5
}
